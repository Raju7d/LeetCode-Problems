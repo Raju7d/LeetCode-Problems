{
 "cells": [
  {
   "cell_type": "code",
   "execution_count": 4,
   "id": "801a044f",
   "metadata": {},
   "outputs": [],
   "source": [
    "num_list = [2,5,4]\n",
    "target = 6\n",
    "\n",
    "output = [1,2]"
   ]
  },
  {
   "cell_type": "code",
   "execution_count": null,
   "id": "d5214bdd",
   "metadata": {},
   "outputs": [
    {
     "name": "stdout",
     "output_type": "stream",
     "text": [
      "0 2\n",
      "1 5\n",
      "2 4\n"
     ]
    }
   ],
   "source": [
    "for index, value in enumerate(num_list):\n",
    "    print(index, value) # 6 - 2 =4 # 6-5 =1, # 6-4 = 2c"
   ]
  },
  {
   "cell_type": "markdown",
   "id": "e50a21f5",
   "metadata": {},
   "source": [
    "# Problem Statement:\n",
    "\n",
    "Given an array of integers **nums** and an integer **target**. Return indices of two numbers such that they add upto **target**\n",
    "\n",
    "You may assume that each input would have exactly one solution, and you may not use the same element twice\n",
    "\n",
    "you can return the answer in any order.\n",
    "\n",
    "# example:\n",
    "\n",
    "*Input*: nums = [2, 7, 11, 15], target = 9\n",
    "output: [0,1]\n",
    "\n",
    "Explanation: Because num[0] + num[1] ==9, we return [0,1]\n",
    "\n",
    "*Input*: nums = [3,2,4], target = 6\n",
    "output: [1,2]\n",
    "\n",
    "*Input*: nums = [3,3], target = 6\n",
    "output: [0,1]\n"
   ]
  },
  {
   "cell_type": "code",
   "execution_count": null,
   "id": "ecd04b66",
   "metadata": {},
   "outputs": [],
   "source": [
    "\"\"\"\n",
    "Brutal force:\n",
    "    loop through the entire list and add 2 variables and check whethere the 2 variables sum is equal to target\n",
    "    if you follow logic you might need to loop through many times, so time complexity and space complexity will increase\n",
    "\"\"\"\n",
    "\n",
    "\"\"\"\n",
    "Smart Answer:\n",
    "    loop through the nums list and do the target - value in the list\n",
    "    check the dict that value is present or not, if present terminates the loop\n",
    "    {2: 0, 7:1, 11;2, 15: 3}\n",
    "\"\"\""
   ]
  },
  {
   "cell_type": "code",
   "execution_count": null,
   "id": "bb75117b",
   "metadata": {},
   "outputs": [],
   "source": [
    "num_list = [2,7,11,15]\n",
    "\n",
    "from typing import List\n",
    "\n",
    "dict = {}\n",
    "class Test:\n",
    "    def two_sum(self, num_list:List[int], target:int) -> List[int]:\n",
    "        for key, value in enumerate(num_list):\n",
    "            difference = target - value # 4 -1 -5 -9\n",
    "            if difference in dict:\n",
    "                \n"
   ]
  },
  {
   "cell_type": "code",
   "execution_count": 2,
   "id": "d5e49044",
   "metadata": {},
   "outputs": [
    {
     "name": "stdout",
     "output_type": "stream",
     "text": [
      "4\n",
      "-1\n",
      "-5\n",
      "-9\n"
     ]
    }
   ],
   "source": [
    "t = Test()\n",
    "t.two_sum(num_list, 6)"
   ]
  },
  {
   "cell_type": "code",
   "execution_count": null,
   "id": "21561141",
   "metadata": {},
   "outputs": [],
   "source": []
  }
 ],
 "metadata": {
  "kernelspec": {
   "display_name": "Python 3",
   "language": "python",
   "name": "python3"
  },
  "language_info": {
   "codemirror_mode": {
    "name": "ipython",
    "version": 3
   },
   "file_extension": ".py",
   "mimetype": "text/x-python",
   "name": "python",
   "nbconvert_exporter": "python",
   "pygments_lexer": "ipython3",
   "version": "3.12.5"
  }
 },
 "nbformat": 4,
 "nbformat_minor": 5
}
