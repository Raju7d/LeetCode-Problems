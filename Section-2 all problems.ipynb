{
 "cells": [
  {
   "cell_type": "code",
   "execution_count": 1,
   "id": "7ed4db79",
   "metadata": {},
   "outputs": [
    {
     "data": {
      "text/plain": [
       "8.0"
      ]
     },
     "execution_count": 1,
     "metadata": {},
     "output_type": "execute_result"
    }
   ],
   "source": [
    "def find_median_sorted_arrays(nums1, nums2):\n",
    "    merged = sorted(nums1+nums2)\n",
    "    n = len(merged)\n",
    "    mid = n // 2\n",
    "\n",
    "    if n%2 == 0:\n",
    "        return (merged[mid-1] + merged[mid]) / 2.0\n",
    "    else:\n",
    "        return float(merged[mid])\n",
    "\n",
    "nums1 = [1,3,8]\n",
    "nums2 = [7,9,10,11]\n",
    "find_median_sorted_arrays(nums1, nums2)\n"
   ]
  },
  {
   "cell_type": "code",
   "execution_count": 2,
   "id": "6839b3a5",
   "metadata": {},
   "outputs": [
    {
     "data": {
      "text/plain": [
       "'BANC'"
      ]
     },
     "execution_count": 2,
     "metadata": {},
     "output_type": "execute_result"
    }
   ],
   "source": [
    "# Problem 2\n",
    "\n",
    "# Input Example: \"ADOBECODEBANC\", \"ABC\"\n",
    "# Output Example: \"BANC\"\n",
    "\n",
    "from itertools import combinations\n",
    "\n",
    "def min_window(s, t):\n",
    "    if not t or not s:\n",
    "        return \"\"\n",
    "    else:\n",
    "        min_len = float('inf')\n",
    "        result = \"\"\n",
    "    \n",
    "    for i in range(len(s)):\n",
    "        for j in range(i+1, len(s)+1):\n",
    "            window = s[i:j]\n",
    "            if all(window.count(c) >= t.count(c) for c in set(t)):\n",
    "                if len(window) < min_len:\n",
    "                    min_len = len(window)\n",
    "                    result=window\n",
    "    return result\n",
    "\n",
    "s = \"ADOBECODEBANC\"\n",
    "t = \"ABC\"\n",
    "\n",
    "min_window(s, t)"
   ]
  },
  {
   "cell_type": "code",
   "execution_count": 3,
   "id": "f744b5fc",
   "metadata": {},
   "outputs": [
    {
     "data": {
      "text/plain": [
       "True"
      ]
     },
     "execution_count": 3,
     "metadata": {},
     "output_type": "execute_result"
    }
   ],
   "source": [
    "# Problem -3\n",
    "\n",
    "# Input Example: \"leetcode\", [\"leet\", \"code\"]\n",
    "# Output Example: True\n",
    "\n",
    "def word_break(s, word_dict):\n",
    "    word_set = set(word_dict)\n",
    "    dp = [False] * (len(s) +1)\n",
    "    dp[0] = True # Empty string can be segmented\n",
    "\n",
    "    for i in range(1, len(s) + 1):\n",
    "        for j in range(i):\n",
    "            if dp[j] and s[j:i] in word_set:\n",
    "                dp[i] = True\n",
    "                break\n",
    "    return dp[len(s)]\n",
    "\n",
    "s = \"leetcode\"\n",
    "word_dict = [\"leet\", \"code\"]\n",
    "word_break(s, word_dict)"
   ]
  },
  {
   "cell_type": "code",
   "execution_count": 4,
   "id": "dc93e589",
   "metadata": {},
   "outputs": [
    {
     "data": {
      "text/plain": [
       "(10, 'abcdefghij')"
      ]
     },
     "execution_count": 4,
     "metadata": {},
     "output_type": "execute_result"
    }
   ],
   "source": [
    "# Problem - 4\n",
    "\n",
    "# Input Example: \"abrkaabcdefghijjxxx\"\n",
    "# Output Example: 10 (substring: \"abcdefghij\")\n",
    "\n",
    "\n",
    "def longest_substring(s):\n",
    "    char_index = {}\n",
    "    start = 0\n",
    "    max_len = 0\n",
    "    max_substr = \"\"\n",
    "\n",
    "    for i, char in enumerate(s):\n",
    "        if char in char_index and char_index[char] >= start:\n",
    "            start = char_index[char] + 1\n",
    "        \n",
    "        char_index[char] = i\n",
    "        if i - start +1  > max_len:\n",
    "            max_len = i-start + 1\n",
    "            max_substr =s[start:i+1]\n",
    "\n",
    "    return max_len, max_substr\n",
    "\n",
    "s = \"abrkaabcdefghijjxxx\"\n",
    "longest_substring(s)"
   ]
  },
  {
   "cell_type": "code",
   "execution_count": 5,
   "id": "d08a32f4",
   "metadata": {},
   "outputs": [
    {
     "data": {
      "text/plain": [
       "[[1, 3, 0, 2], [2, 0, 3, 1]]"
      ]
     },
     "execution_count": 5,
     "metadata": {},
     "output_type": "execute_result"
    }
   ],
   "source": [
    "# Problem -5\n",
    "\n",
    "# Input Example: 4\n",
    "# Output Example: [[1, 3, 0, 2], [2, 0, 3, 1]]\n",
    "\n",
    "def solve_n_quees(n):\n",
    "    def is_safe(row, col, queens):\n",
    "        for r in range(row):\n",
    "            c = queens[r]\n",
    "            if c == col or abs(c-col) == abs(r-row):\n",
    "                return False\n",
    "        return True\n",
    "    \n",
    "    def back_track(row, queens, solutions):\n",
    "        if row == n:\n",
    "            solutions.append(queens[:])\n",
    "            return\n",
    "        for col in range(n):\n",
    "            if is_safe(row, col, queens):\n",
    "                queens[row] = col\n",
    "                back_track(row+1, queens, solutions)\n",
    "        \n",
    "    solutions = []\n",
    "    back_track(0, [-1]*n, solutions)\n",
    "    return solutions\n",
    "    \n",
    "n =4\n",
    "solve_n_quees(n)"
   ]
  }
 ],
 "metadata": {
  "kernelspec": {
   "display_name": "Python 3",
   "language": "python",
   "name": "python3"
  },
  "language_info": {
   "codemirror_mode": {
    "name": "ipython",
    "version": 3
   },
   "file_extension": ".py",
   "mimetype": "text/x-python",
   "name": "python",
   "nbconvert_exporter": "python",
   "pygments_lexer": "ipython3",
   "version": "3.12.5"
  }
 },
 "nbformat": 4,
 "nbformat_minor": 5
}
